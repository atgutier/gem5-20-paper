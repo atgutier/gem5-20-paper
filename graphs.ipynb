{
 "cells": [
  {
   "cell_type": "code",
   "execution_count": 16,
   "metadata": {},
   "outputs": [],
   "source": [
    "import matplotlib as mpl\n",
    "import matplotlib.pyplot as plt\n",
    "import numpy as np\n",
    "import subprocess\n",
    "import os\n",
    "import operator\n",
    "from collections import defaultdict"
   ]
  },
  {
   "cell_type": "markdown",
   "metadata": {},
   "source": [
    "### Count number of contributors from 2011-2020"
   ]
  },
  {
   "cell_type": "code",
   "execution_count": 3,
   "metadata": {},
   "outputs": [],
   "source": [
    "contributors_data = \\\n",
    "\"\"\"YEARS,CONTRIBUTORS\n",
    "2011,37\n",
    "2012,50\n",
    "2013,50\n",
    "2014,51\n",
    "2015,62\n",
    "2016,57\n",
    "2017,53\n",
    "2018,60\n",
    "2019,79\n",
    "2020,37\"\"\""
   ]
  },
  {
   "cell_type": "code",
   "execution_count": 4,
   "metadata": {},
   "outputs": [
    {
     "data": {
      "image/png": "[encoded data removed]",
      "text/plain": [
       "<Figure size 432x288 with 1 Axes>"
      ]
     },
     "metadata": {
      "needs_background": "light"
     },
     "output_type": "display_data"
    }
   ],
   "source": [
    "contributors_x = []\n",
    "contributors_y = []\n",
    "for line in contributors_data.split()[1:]:\n",
    "    line = line.strip().split(',')\n",
    "    contributors_x.append(line[0])\n",
    "    contributors_y.append(int(line[1]))\n",
    "contributors_x[-1] = \"2020\\n              (through May)\"\n",
    "\n",
    "# plot\n",
    "fig, ax = plt.subplots()\n",
    "x = np.arange(len(contributors_x)) * 1.6\n",
    "plt.bar(x, contributors_y, width=1.1)\n",
    "plt.xticks(x, contributors_x)\n",
    "plt.xlabel('Years')\n",
    "plt.ylabel('# contributors')\n",
    "plt.subplots_adjust(bottom=0.15)\n",
    "plt.savefig(\"fig/gem5_contributors.pdf\")\n",
    "plt.show()"
   ]
  },
  {
   "cell_type": "markdown",
   "metadata": {},
   "source": [
    "### Count number of commits from 2011-2020"
   ]
  },
  {
   "cell_type": "code",
   "execution_count": 5,
   "metadata": {},
   "outputs": [],
   "source": [
    "commits_data = \\\n",
    "\"\"\"YEARS,COMMITS\n",
    "2011,837\n",
    "2012,728\n",
    "2013,627\n",
    "2014,629\n",
    "2015,659\n",
    "2016,497\n",
    "2017,623\n",
    "2018,1093\n",
    "2019,1164\n",
    "2020,684\"\"\""
   ]
  },
  {
   "cell_type": "code",
   "execution_count": 6,
   "metadata": {},
   "outputs": [
    {
     "data": {
      "image/png": "[encoded data removed]",
      "text/plain": [
       "<Figure size 432x288 with 1 Axes>"
      ]
     },
     "metadata": {
      "needs_background": "light"
     },
     "output_type": "display_data"
    }
   ],
   "source": [
    "commits_x = []\n",
    "commits_y = []\n",
    "for line in commits_data.split()[1:]:\n",
    "    line = line.strip().split(',')\n",
    "    commits_x.append(line[0])\n",
    "    commits_y.append(int(line[1]))\n",
    "commits_x[-1] = \"2020\\n              (through May)\"\n",
    "\n",
    "# plot\n",
    "fig, ax = plt.subplots()\n",
    "x = np.arange(len(commits_x)) * 1.6\n",
    "plt.bar(x, commits_y, width=1.1)\n",
    "plt.xticks(x, commits_x)\n",
    "plt.xlabel('Years')\n",
    "plt.ylabel('# commits')\n",
    "plt.subplots_adjust(bottom=0.15)\n",
    "plt.savefig(\"fig/gem5_commits.pdf\")\n",
    "plt.show()"
   ]
  },
  {
   "cell_type": "markdown",
   "metadata": {},
   "source": [
    "### Count number of citations from 2011-2020"
   ]
  },
  {
   "cell_type": "code",
   "execution_count": 7,
   "metadata": {},
   "outputs": [],
   "source": [
    "citations_data = \\\n",
    "\"\"\"YEAR,CITATIONS\n",
    "2011,6\n",
    "2012,80\n",
    "2013,255\n",
    "2014,387\n",
    "2015,499\n",
    "2016,540\n",
    "2017,587\n",
    "2018,555\n",
    "2019,598\n",
    "2020,150\"\"\""
   ]
  },
  {
   "cell_type": "code",
   "execution_count": 8,
   "metadata": {},
   "outputs": [
    {
     "data": {
      "image/png": "[encoded data removed]",
      "text/plain": [
       "<Figure size 432x288 with 1 Axes>"
      ]
     },
     "metadata": {
      "needs_background": "light"
     },
     "output_type": "display_data"
    }
   ],
   "source": [
    "citations_x = []\n",
    "citations_y = []\n",
    "for line in citations_data.split()[1:]:\n",
    "    line = line.strip().split(',')\n",
    "    citations_x.append(line[0])\n",
    "    citations_y.append(int(line[1]))\n",
    "citations_x[-1] = \"2020\\n              (through May)\"\n",
    "\n",
    "# plot\n",
    "fig, ax = plt.subplots()\n",
    "x = np.arange(len(citations_x)) * 1.6\n",
    "plt.bar(x, citations_y, width=1.1)\n",
    "plt.xticks(x, citations_x)\n",
    "plt.xlabel('Years')\n",
    "plt.ylabel('# citations')\n",
    "plt.subplots_adjust(bottom=0.15)\n",
    "plt.savefig(\"fig/gem5_citations.pdf\")\n",
    "plt.show()"
   ]
  },
  {
   "cell_type": "markdown",
   "metadata": {},
   "source": [
    "### Determine companies/institutions contributions"
   ]
  },
  {
   "cell_type": "code",
   "execution_count": 20,
   "metadata": {},
   "outputs": [],
   "source": [
    "def get_email_address_domain(email_address):\n",
    "    email_address = email_address.replace(\",\", \".\")\n",
    "    email_address = email_address.lower()\n",
    "    email_address = email_address.split('@')\n",
    "    if len(email_address) < 2:\n",
    "        return \"\"\n",
    "    subdomain = email_address[1].split('.')\n",
    "    if len(subdomain) < 2:\n",
    "        return subdomain[0]\n",
    "    if len(subdomain) >= 3:\n",
    "        if subdomain[-2] == \"ac\" or subdomain[-2] == \"edu\" or subdomain[-2] == \"org\": # .ac.uk, .ac.cn\n",
    "            return '.'.join(subdomain[-3:])\n",
    "    domain = '.'.join(subdomain[-2:])\n",
    "    return domain\n",
    "\n",
    "def count_commits_from_domain_maps(commit_list, domain_maps):\n",
    "    count_maps = defaultdict(lambda: 0)\n",
    "    for n_commits, email_address in commit_list:\n",
    "        domain = get_email_address_domain(email_address)\n",
    "        try:\n",
    "            mapping = domain_maps[domain]\n",
    "        except KeyError:\n",
    "            mapping = \"Others\"\n",
    "        count_maps[mapping] += n_commits\n",
    "    return count_maps\n",
    "\n",
    "def get_commit_list(authors_file):\n",
    "    commit_list = []\n",
    "    with open(authors_file, 'r') as f:\n",
    "        for line in f:\n",
    "            line = line.strip().split(\"\\t\")\n",
    "            n_commits = int(line[0])\n",
    "            line = line[1].split(\" \")\n",
    "            email_address = line[-1][1:-1]\n",
    "            commit_list.append((n_commits, email_address))\n",
    "    return commit_list"
   ]
  },
  {
   "cell_type": "code",
   "execution_count": 21,
   "metadata": {},
   "outputs": [
    {
     "name": "stdout",
     "output_type": "stream",
     "text": [
      "[('arm.com', 3125),\n",
      " ('google.com', 1395),\n",
      " ('others', 702),\n",
      " ('wisc.edu', 618),\n",
      " ('umich.edu', 571),\n",
      " ('amd.com', 553),\n",
      " ('ucdavis.edu', 133),\n",
      " ('metempsy.com', 80),\n",
      " ('virginia.edu', 51),\n",
      " ('cornell.edu', 33),\n",
      " ('cam.ac.uk', 27),\n",
      " ('barkhauseninstitut.org', 24),\n",
      " ('tu-dresden.de', 23),\n",
      " ('mit.edu', 21),\n",
      " ('ucf.edu', 21),\n",
      " ('utexas.edu', 20),\n",
      " ('uni-kl.de', 13),\n",
      " ('gatech.edu', 10),\n",
      " ('oregonstate.edu', 9),\n",
      " ('tsinghua.org.cn', 8),\n",
      " ('bsc.es', 8),\n",
      " ('irisa.fr', 8),\n",
      " ('lirmm.fr', 7),\n",
      " ('ed.ac.uk', 7),\n",
      " ('inria.fr', 6),\n",
      " ('micron.com', 5),\n",
      " ('labware.com', 4),\n",
      " ('rutgers.edu', 4),\n",
      " ('ucm.es', 4),\n",
      " ('unican.es', 4),\n",
      " ('uni-augsburg.de', 4),\n",
      " ('unibo.it', 4),\n",
      " ('microsoft.com', 4),\n",
      " ('upc.edu', 3),\n",
      " ('samsung.com', 3),\n",
      " ('mediatek.com', 3),\n",
      " ('ncic.ac.cn', 3),\n",
      " ('ethz.ch', 2),\n",
      " ('riken.jp', 2),\n",
      " ('sandia.gov', 2),\n",
      " ('ibm.com', 2),\n",
      " ('drexel.edu', 2),\n",
      " ('intel.com', 2),\n",
      " ('duke.edu', 1),\n",
      " ('harvard.edu', 1),\n",
      " ('nudt.edu.cn', 1),\n",
      " ('forth.gr', 1),\n",
      " ('rochester.edu', 1),\n",
      " ('tamu.edu', 1),\n",
      " ('streamcomputing.com', 1),\n",
      " ('gwu.edu', 1),\n",
      " ('dtu.dk', 1),\n",
      " ('ugent.be', 1),\n",
      " ('colostate.edu', 1),\n",
      " ('uchicago.edu', 1)]\n"
     ]
    }
   ],
   "source": [
    "# commit_2011_hash = \"5e25f3171\"\n",
    "# git checkout v20.0.0.0\n",
    "# git shortlog 5e25f3171..HEAD > authors\n",
    "\n",
    "known_domains = { # Please add if I missed a non-personal domain\n",
    "    \"arm.com\",\n",
    "    \"wisc.edu\",\n",
    "    \"umich.edu\",\n",
    "    \"amd.com\",\n",
    "    \"ucdavis.edu\",\n",
    "    \"virginia.edu\",\n",
    "    \"metempsy.com\",\n",
    "    \"cornell.edu\",\n",
    "    \"barkhauseninstitut.org\",\n",
    "    \"mit.edu\",\n",
    "    \"google.com\",\n",
    "    \"ucf.edu\",\n",
    "    \"cam.ac.uk\",\n",
    "    \"tu-dresden.de\",\n",
    "    \"utexas.edu\",\n",
    "    \"uni-kl.de\",\n",
    "    \"gatech.edu\",\n",
    "    \"oregonstate.edu\",\n",
    "    \"lirmm.fr\",\n",
    "    \"tsinghua.org.cn\",\n",
    "    \"ed.ac.uk\",\n",
    "    \"inria.fr\",\n",
    "    \"irisa.fr\",\n",
    "    \"rutgers.edu\",\n",
    "    \"labware.com\",\n",
    "    \"unibo.it\",\n",
    "    \"uni-augsburg.de\",\n",
    "    \"microsoft.com\",\n",
    "    \"ucm.es\",\n",
    "    \"samsung.com\",\n",
    "    \"mediatek.com\",\n",
    "    \"bsc.es\",\n",
    "    \"ncic.ac.cn\",\n",
    "    \"micron.com\",\n",
    "    \"unican.es\",\n",
    "    \"upc.edu\",\n",
    "    \"intel.com\",\n",
    "    \"sandia.gov\",\n",
    "    \"drexel.edu\",\n",
    "    \"ibm.com\",\n",
    "    \"dtu.dk\",\n",
    "    \"duke.edu\",\n",
    "    \"uchicago.edu\",\n",
    "    \"ethz.ch\",\n",
    "    \"gwu.edu\",\n",
    "    \"rochester.edu\",\n",
    "    \"ugent.be\",\n",
    "    \"forth.gr\",\n",
    "    \"tamu.edu\",\n",
    "    \"streamcomputing.com\",\n",
    "    \"colostate.edu\",\n",
    "    \"harvard.edu\",\n",
    "    \"riken.jp\",\n",
    "    \"nudt.edu.cn\"\n",
    "}\n",
    "\n",
    "authors_file = os.path.join(os.getcwd(), \"../gem5/authors\")\n",
    "commit_list = get_commit_list(authors_file)\n",
    "\n",
    "commits = {domain: 0 for domain in known_domains}\n",
    "commits[\"others\"] = 0\n",
    "for n_commits, email_address in commit_list:\n",
    "    domain = get_email_address_domain(email_address)\n",
    "    if domain in known_domains:\n",
    "        commits[domain] += n_commits\n",
    "    else:\n",
    "        commits[\"others\"] += n_commits\n",
    "sorted_commits = sorted(commits.items(), key=operator.itemgetter(1), reverse = True)\n",
    "from pprint import pprint\n",
    "pprint(sorted_commits)"
   ]
  },
  {
   "cell_type": "code",
   "execution_count": 11,
   "metadata": {},
   "outputs": [],
   "source": [
    "institution_domains = { # Please modify if I missed anything\n",
    "    #\"arm.com\",\n",
    "    \"wisc.edu\",\n",
    "    \"umich.edu\",\n",
    "    #\"amd.com\",\n",
    "    \"ucdavis.edu\",\n",
    "    \"virginia.edu\",\n",
    "    #\"metempsy.com\",\n",
    "    \"cornell.edu\",\n",
    "    #\"barkhauseninstitut.org\", # not really sure (https://www.barkhauseninstitut.org/en/about-us)\n",
    "    \"mit.edu\",\n",
    "    #\"google.com\",\n",
    "    \"ucf.edu\",\n",
    "    \"cam.ac.uk\",\n",
    "    \"tu-dresden.de\",\n",
    "    \"utexas.edu\",\n",
    "    \"uni-kl.de\",\n",
    "    \"gatech.edu\",\n",
    "    \"oregonstate.edu\",\n",
    "    \"lirmm.fr\",\n",
    "    \"tsinghua.org.cn\",\n",
    "    \"ed.ac.uk\",\n",
    "    \"inria.fr\",\n",
    "    \"irisa.fr\",\n",
    "    \"rutgers.edu\",\n",
    "    #\"labware.com\",\n",
    "    \"unibo.it\",\n",
    "    \"uni-augsburg.de\",\n",
    "    #\"microsoft.com\",\n",
    "    \"ucm.es\",\n",
    "    #\"samsung.com\",\n",
    "    #\"mediatek.com\",\n",
    "    \"bsc.es\",\n",
    "    \"ncic.ac.cn\",\n",
    "    #\"micron.com\",\n",
    "    \"unican.es\",\n",
    "    \"upc.edu\",\n",
    "    #\"intel.com\",\n",
    "    \"sandia.gov\",\n",
    "    \"drexel.edu\",\n",
    "    #\"ibm.com\",\n",
    "    \"dtu.dk\",\n",
    "    \"duke.edu\",\n",
    "    \"uchicago.edu\",\n",
    "    \"ethz.ch\",\n",
    "    \"gwu.edu\",\n",
    "    \"rochester.edu\",\n",
    "    \"ugent.be\",\n",
    "    \"forth.gr\",\n",
    "    \"tamu.edu\",\n",
    "    #\"streamcomputing.com\",\n",
    "    \"colostate.edu\",\n",
    "    \"harvard.edu\",\n",
    "    \"riken.jp\",\n",
    "    \"nudt.edu.cn\",\n",
    "    #\"jiegec.ac.cn\" -> appears to be a personal domain (https://github.com/jiegec/blog-source/blob/master/content/about.md)\n",
    "}\n",
    "\n",
    "industry_domains = known_domains - institution_domains"
   ]
  },
  {
   "cell_type": "code",
   "execution_count": 31,
   "metadata": {},
   "outputs": [
    {
     "data": {
      "image/png": "[encoded data removed]",
      "text/plain": [
       "<Figure size 432x288 with 1 Axes>"
      ]
     },
     "metadata": {
      "needs_background": "light"
     },
     "output_type": "display_data"
    }
   ],
   "source": [
    "cat_x = [\"Industry\", \"Academic/Government Labs\", \"Others\"]\n",
    "reversed_mapping = {}\n",
    "for domain in industry_domains:\n",
    "    reversed_mapping[domain] = cat_x[0]\n",
    "for domain in institution_domains:\n",
    "    reversed_mapping[domain] = cat_x[1]\n",
    "count_maps = count_commits_from_domain_maps(commit_list, reversed_mapping)\n",
    "cat_y = [count_maps[x] for x in cat_x]\n",
    "# plotting\n",
    "fig, ax = plt.subplots()\n",
    "x = np.arange(len(cat_x)) * 2.0\n",
    "plt.bar(x, cat_y, width=1.0)\n",
    "plt.xticks(x, cat_x)\n",
    "plt.ylabel('# commits')\n",
    "plt.show()"
   ]
  },
  {
   "cell_type": "code",
   "execution_count": null,
   "metadata": {},
   "outputs": [],
   "source": []
  }
 ],
 "metadata": {
  "kernelspec": {
   "display_name": "Python 3",
   "language": "python",
   "name": "python3"
  },
  "language_info": {
   "codemirror_mode": {
    "name": "ipython",
    "version": 3
   },
   "file_extension": ".py",
   "mimetype": "text/x-python",
   "name": "python",
   "nbconvert_exporter": "python",
   "pygments_lexer": "ipython3",
   "version": "3.7.3"
  }
 },
 "nbformat": 4,
 "nbformat_minor": 2
}
